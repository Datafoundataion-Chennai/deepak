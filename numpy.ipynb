{
 "cells": [
  {
   "cell_type": "code",
   "execution_count": 1,
   "id": "f6c2c4e2-6a26-4727-abbc-bd0700d35d9e",
   "metadata": {},
   "outputs": [
    {
     "name": "stdout",
     "output_type": "stream",
     "text": [
      "Requirement already satisfied: numpy in c:\\users\\deepa\\anaconda3\\lib\\site-packages (1.26.4)\n"
     ]
    }
   ],
   "source": [
    "!pip install numpy"
   ]
  },
  {
   "cell_type": "code",
   "execution_count": 2,
   "id": "a0c6d025-621b-4e48-be41-daa2896bd067",
   "metadata": {},
   "outputs": [
    {
     "name": "stdout",
     "output_type": "stream",
     "text": [
      "Average Stock prices: [269.76666667 283.9        305.23333333 352.23333333 295.3       ]\n",
      "Highest price recorded : 498 at Day 2, company 2\n",
      "Normalised prices: [[0.3133515  0.58701299 0.00288184 0.60422164 0.81117021]\n",
      " [0.82833787 1.         0.14121037 0.81794195 0.60904255]\n",
      " [0.65122616 0.71168831 0.3054755  0.80474934 0.6037234 ]\n",
      " [0.17711172 0.52727273 0.55907781 1.         0.        ]\n",
      " [0.         0.86493506 0.28242075 0.9525066  0.46542553]\n",
      " [0.73569482 0.12727273 0.36311239 0.55672823 0.83244681]\n",
      " [0.76294278 0.63116883 0.8962536  0.28759894 0.36702128]\n",
      " [0.75476839 0.83376623 0.83861671 0.5171504  0.08510638]\n",
      " [0.02179837 0.25974026 0.4610951  0.69129288 0.35638298]\n",
      " [0.42506812 0.04935065 0.71757925 0.55672823 0.10638298]\n",
      " [0.3760218  0.03376623 0.33429395 0.90501319 0.86968085]\n",
      " [0.54223433 0.12207792 0.11527378 0.88390501 0.73138298]\n",
      " [0.29155313 0.2        0.72910663 0.60422164 0.39361702]\n",
      " [0.29972752 0.43376623 0.09510086 0.72823219 0.39095745]\n",
      " [0.09536785 0.24415584 0.95677233 0.70976253 0.19148936]\n",
      " [0.33787466 0.41818182 0.99423631 0.70448549 0.21542553]\n",
      " [0.46321526 0.56883117 0.63112392 0.8944591  0.23138298]\n",
      " [1.         0.75064935 0.1815562  0.75461741 0.83510638]\n",
      " [0.38692098 0.97662338 0.28530259 0.72823219 0.30319149]\n",
      " [0.64577657 0.42337662 0.28530259 0.41424802 0.95478723]\n",
      " [0.14168937 0.26493506 1.         0.05013193 0.96542553]\n",
      " [0.73024523 0.         0.30259366 0.00527704 0.61702128]\n",
      " [0.08991826 0.02077922 0.3314121  0.34300792 0.28457447]\n",
      " [0.37057221 0.68831169 0.26224784 0.82849604 0.53191489]\n",
      " [0.24523161 0.32987013 0.         0.49604222 0.3643617 ]\n",
      " [0.92643052 0.43376623 0.41210375 0.93931398 1.        ]\n",
      " [0.07356948 0.42337662 0.78962536 0.823219   0.50531915]\n",
      " [0.72207084 0.61818182 0.76080692 0.59366755 0.21542553]\n",
      " [0.64305177 0.54805195 0.94524496 0.         0.13829787]\n",
      " [0.08991826 0.22597403 0.65129683 0.66226913 0.56914894]]\n",
      "Risky Investment on Day: 1 of Investment: 137, by company 3\n",
      "Risky Investment on Day: 2 of Investment: 185, by company 3\n",
      "Risky Investment on Day: 4 of Investment: 174, by company 1\n",
      "Risky Investment on Day: 4 of Investment: 113, by company 5\n",
      "Risky Investment on Day: 5 of Investment: 109, by company 1\n",
      "Risky Investment on Day: 6 of Investment: 162, by company 2\n",
      "Risky Investment on Day: 8 of Investment: 145, by company 5\n",
      "Risky Investment on Day: 9 of Investment: 117, by company 1\n",
      "Risky Investment on Day: 10 of Investment: 132, by company 2\n",
      "Risky Investment on Day: 10 of Investment: 153, by company 5\n",
      "Risky Investment on Day: 11 of Investment: 126, by company 2\n",
      "Risky Investment on Day: 12 of Investment: 160, by company 2\n",
      "Risky Investment on Day: 12 of Investment: 176, by company 3\n",
      "Risky Investment on Day: 13 of Investment: 190, by company 2\n",
      "Risky Investment on Day: 14 of Investment: 169, by company 3\n",
      "Risky Investment on Day: 15 of Investment: 144, by company 1\n",
      "Risky Investment on Day: 2 of Investment: 185, by company 3\n",
      "Risky Investment on Day: 16 of Investment: 194, by company 5\n",
      "Risky Investment on Day: 18 of Investment: 199, by company 3\n",
      "Risky Investment on Day: 21 of Investment: 161, by company 1\n",
      "Risky Investment on Day: 21 of Investment: 133, by company 4\n",
      "Risky Investment on Day: 4 of Investment: 113, by company 5\n",
      "Risky Investment on Day: 22 of Investment: 116, by company 4\n",
      "Risky Investment on Day: 23 of Investment: 142, by company 1\n",
      "Risky Investment on Day: 23 of Investment: 121, by company 2\n",
      "Risky Investment on Day: 18 of Investment: 199, by company 3\n",
      "Risky Investment on Day: 25 of Investment: 136, by company 3\n",
      "Risky Investment on Day: 25 of Investment: 136, by company 3\n",
      "Risky Investment on Day: 16 of Investment: 194, by company 5\n",
      "Risky Investment on Day: 29 of Investment: 114, by company 4\n",
      "Risky Investment on Day: 29 of Investment: 165, by company 5\n",
      "Risky Investment on Day: 23 of Investment: 142, by company 1\n"
     ]
    }
   ],
   "source": [
    "import numpy as np\n",
    "a= np.random.randint(100,500,(30,5))\n",
    "avg_a = np.mean(a, axis = 0)\n",
    "print(f'Average Stock prices: {avg_a}')\n",
    "\n",
    "\n",
    "max_a = np.max(a)\n",
    "row_index, col_index = np.where(a == max_a)\n",
    "print(f'Highest price recorded : {max_a} at Day {row_index[0]+1}, company {col_index[0]+1}')\n",
    "\n",
    "min_prices = np.min(a, axis=0)\n",
    "max_prices = np.max(a, axis=0)\n",
    "normalized_prices = (a - min_prices) / (max_prices - min_prices)\n",
    "print(f'Normalised prices: {normalized_prices}')\n",
    "risk = a[a<200]\n",
    "for i in risk:\n",
    "    r_index,c_index = np.where(a == i)\n",
    "    print( f'Risky Investment on Day: {r_index[0]+1} of Investment: {i}, by company {c_index[0]+1}')\n"
   ]
  },
  {
   "cell_type": "code",
   "execution_count": 101,
   "id": "c1f52357-feb9-45a2-8f0d-eb6eb74866c1",
   "metadata": {},
   "outputs": [
    {
     "name": "stdout",
     "output_type": "stream",
     "text": [
      "Total resources needed (tons): Oxygen: 148, Water: 173, Food: 75\n",
      "Highest consumption in a month: 1 (46 in the month 2)\n"
     ]
    }
   ],
   "source": [
    "import numpy as np\n",
    "arr = np.random.randint( 0,50, (6,3))\n",
    "total = np.sum(arr, axis = 0)\n",
    "print(f'Total resources needed (tons): Oxygen: {total[0]}, Water: {total[1]}, Food: {total[2]}')\n",
    "max_con = np.max(arr)\n",
    "r_index,c_index = np.where(arr == max_con)\n",
    "\n",
    "print(f'Highest consumption in a month: {c_index[0]} ({max_con} in the month {r_index[0]})')"
   ]
  },
  {
   "cell_type": "code",
   "execution_count": null,
   "id": "0eaed922-d31b-44a8-aa91-88fbcd14b9b9",
   "metadata": {},
   "outputs": [],
   "source": []
  }
 ],
 "metadata": {
  "kernelspec": {
   "display_name": "Python 3 (ipykernel)",
   "language": "python",
   "name": "python3"
  },
  "language_info": {
   "codemirror_mode": {
    "name": "ipython",
    "version": 3
   },
   "file_extension": ".py",
   "mimetype": "text/x-python",
   "name": "python",
   "nbconvert_exporter": "python",
   "pygments_lexer": "ipython3",
   "version": "3.12.7"
  }
 },
 "nbformat": 4,
 "nbformat_minor": 5
}
