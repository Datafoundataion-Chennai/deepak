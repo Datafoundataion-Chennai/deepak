{
 "cells": [
  {
   "cell_type": "code",
   "execution_count": 3,
   "id": "0900ac45-e208-454a-b0b5-26a6f65ac214",
   "metadata": {},
   "outputs": [
    {
     "name": "stdout",
     "output_type": "stream",
     "text": [
      "OrderedDict({'bread': 8, 'milk': 3, 'cigarettes': 4})\n"
     ]
    }
   ],
   "source": [
    "from collections import OrderedDict\n",
    "requests = [\n",
    "    (\"bread\", 5),\n",
    "    (\"milk\", 2),\n",
    "    (\"bread\", 3),\n",
    "    (\"cigarettes\", 4),\n",
    "    (\"milk\", 1)\n",
    "]\n",
    "c = OrderedDict()\n",
    "for i , j in requests:\n",
    "    if i in c:\n",
    "        c[i] += j\n",
    "    else:\n",
    "        c[i] = j\n",
    "print(c)"
   ]
  },
  {
   "cell_type": "code",
   "execution_count": 27,
   "id": "41c60466-c79c-4588-9f67-8849692731b5",
   "metadata": {},
   "outputs": [
    {
     "name": "stdout",
     "output_type": "stream",
     "text": [
      "['attack', 'retreat', 'tanks', 'UNKNOWN']\n"
     ]
    }
   ],
   "source": [
    "from collections import defaultdict\n",
    "codewords = [\"attack\", \"retreat\", \"sniper\", \"danger\", \"tanks\", \"enemy\"]\n",
    "intercepted = [\"ckatta\", \"ratreet\", \"ksnat\", \"shadow\"]\n",
    "s= defaultdict(list)\n",
    "for i in codewords:\n",
    "    sorted_codewords = ''.join(sorted(i))\n",
    "    s[sorted_codewords].append(i)\n",
    "    #print(s)\n",
    "\n",
    "result = []\n",
    "for j in intercepted:\n",
    "    sorted_intercepted = ''.join(sorted(j))\n",
    "    if sorted_intercepted in s:\n",
    "        result.append(s[sorted_intercepted][0])\n",
    "    else:\n",
    "        result.append('UNKNOWN')\n",
    "print(result)"
   ]
  },
  {
   "cell_type": "code",
   "execution_count": null,
   "id": "503c9fb5-3759-4879-a2b9-7089495239f3",
   "metadata": {},
   "outputs": [],
   "source": []
  }
 ],
 "metadata": {
  "kernelspec": {
   "display_name": "Python 3 (ipykernel)",
   "language": "python",
   "name": "python3"
  },
  "language_info": {
   "codemirror_mode": {
    "name": "ipython",
    "version": 3
   },
   "file_extension": ".py",
   "mimetype": "text/x-python",
   "name": "python",
   "nbconvert_exporter": "python",
   "pygments_lexer": "ipython3",
   "version": "3.12.7"
  }
 },
 "nbformat": 4,
 "nbformat_minor": 5
}
