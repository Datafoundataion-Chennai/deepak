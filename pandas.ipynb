{
 "cells": [
  {
   "cell_type": "code",
   "execution_count": 36,
   "id": "c9a81aa1-4e5a-47e8-9e7b-cd794b260872",
   "metadata": {},
   "outputs": [
    {
     "name": "stdout",
     "output_type": "stream",
     "text": [
      " The average salary of employees in each department:\n",
      " Department\n",
      "Finance    82500.000000\n",
      "HR         71666.666667\n",
      "IT         65666.666667\n",
      "Name: Salary, dtype: float64\n",
      "\n",
      "The Highest paid employee in each department:\n",
      " Department\n",
      "Finance    90000\n",
      "HR         85000\n",
      "IT         70000\n",
      "Name: Salary, dtype: int64\n",
      "\n",
      "Employees having more than 5 years of experience and earn a salary above $65,000 are\n",
      "   Employee Department  Age  Salary  Experience\n",
      "1      Bob         IT   32   70000           7\n",
      "3    David         HR   41   80000          15\n",
      "4     Emma    Finance   37   75000          10\n",
      "5    Frank    Finance   45   90000          20\n",
      "7   Hannah         HR   38   85000          12\n"
     ]
    },
    {
     "data": {
      "text/html": [
       "<div>\n",
       "<style scoped>\n",
       "    .dataframe tbody tr th:only-of-type {\n",
       "        vertical-align: middle;\n",
       "    }\n",
       "\n",
       "    .dataframe tbody tr th {\n",
       "        vertical-align: top;\n",
       "    }\n",
       "\n",
       "    .dataframe thead th {\n",
       "        text-align: right;\n",
       "    }\n",
       "</style>\n",
       "<table border=\"1\" class=\"dataframe\">\n",
       "  <thead>\n",
       "    <tr style=\"text-align: right;\">\n",
       "      <th></th>\n",
       "      <th>Employee</th>\n",
       "      <th>Department</th>\n",
       "      <th>Age</th>\n",
       "      <th>Salary</th>\n",
       "      <th>Experience</th>\n",
       "    </tr>\n",
       "  </thead>\n",
       "  <tbody>\n",
       "    <tr>\n",
       "      <th>1</th>\n",
       "      <td>Bob</td>\n",
       "      <td>IT</td>\n",
       "      <td>32</td>\n",
       "      <td>70000</td>\n",
       "      <td>7</td>\n",
       "    </tr>\n",
       "    <tr>\n",
       "      <th>2</th>\n",
       "      <td>Charlie</td>\n",
       "      <td>IT</td>\n",
       "      <td>29</td>\n",
       "      <td>65000</td>\n",
       "      <td>5</td>\n",
       "    </tr>\n",
       "    <tr>\n",
       "      <th>6</th>\n",
       "      <td>Grace</td>\n",
       "      <td>IT</td>\n",
       "      <td>26</td>\n",
       "      <td>62000</td>\n",
       "      <td>3</td>\n",
       "    </tr>\n",
       "  </tbody>\n",
       "</table>\n",
       "</div>"
      ],
      "text/plain": [
       "  Employee Department  Age  Salary  Experience\n",
       "1      Bob         IT   32   70000           7\n",
       "2  Charlie         IT   29   65000           5\n",
       "6    Grace         IT   26   62000           3"
      ]
     },
     "execution_count": 36,
     "metadata": {},
     "output_type": "execute_result"
    }
   ],
   "source": [
    "import pandas as pd\n",
    "data = {\n",
    "    'Employee': ['Alice', 'Bob', 'Charlie', 'David', 'Emma', 'Frank', 'Grace', 'Hannah'],\n",
    "    'Department': ['HR', 'IT', 'IT', 'HR', 'Finance', 'Finance', 'IT', 'HR'],\n",
    "    'Age': [25, 32, 29, 41, 37, 45, 26, 38],\n",
    "    'Salary': [50000, 70000, 65000, 80000, 75000, 90000, 62000, 85000],\n",
    "    'Experience': [2, 7, 5, 15, 10, 20, 3, 12]\n",
    "}\n",
    "\n",
    "df = pd.DataFrame(data)\n",
    "avg_salary = df.groupby('Department')['Salary'].mean()\n",
    "print(f' The average salary of employees in each department:\\n {avg_salary}\\n')\n",
    "high_salary = df.groupby('Department')['Salary'].max()\n",
    "print(f'The Highest paid employee in each department:\\n {high_salary}\\n')\n",
    "emp=df[(df['Experience']>5) & (df['Salary']>65000)]\n",
    "print(f'Employees having more than 5 years of experience and earn a salary above $65,000 are\\n {emp}')\n",
    "sort_it = df[(df['Department'] == 'IT')]\n",
    "sort_it"
   ]
  },
  {
   "cell_type": "code",
   "execution_count": null,
   "id": "2ae1a79b-19db-48de-b166-7246bb6c1237",
   "metadata": {},
   "outputs": [],
   "source": []
  }
 ],
 "metadata": {
  "kernelspec": {
   "display_name": "Python 3 (ipykernel)",
   "language": "python",
   "name": "python3"
  },
  "language_info": {
   "codemirror_mode": {
    "name": "ipython",
    "version": 3
   },
   "file_extension": ".py",
   "mimetype": "text/x-python",
   "name": "python",
   "nbconvert_exporter": "python",
   "pygments_lexer": "ipython3",
   "version": "3.12.7"
  }
 },
 "nbformat": 4,
 "nbformat_minor": 5
}
