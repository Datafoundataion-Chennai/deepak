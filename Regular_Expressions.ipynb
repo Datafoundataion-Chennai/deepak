{
 "cells": [
  {
   "cell_type": "code",
   "execution_count": 11,
   "id": "5deababe-e2bb-414c-9c86-de18537e8045",
   "metadata": {},
   "outputs": [
    {
     "name": "stdout",
     "output_type": "stream",
     "text": [
      "<re.Match object; span=(0, 2), match='Py'>\n"
     ]
    }
   ],
   "source": [
    "import re\n",
    "text = 'Python is one of the most popular programming languages today, known for its simplicity, extensive features and library support. Its clean and straightforward syntax makes it beginner-friendly, while its powerful libraries and frameworks makes it perfect for developers.'\n",
    "match = re.match(r'^Py', text)\n",
    "print(match)"
   ]
  },
  {
   "cell_type": "code",
   "execution_count": 54,
   "id": "368f6eba-3a48-45a2-b502-64e2eaa067d1",
   "metadata": {},
   "outputs": [
    {
     "name": "stdout",
     "output_type": "stream",
     "text": [
      "['support@example.com', 'john.doe123@company.org', 'jane_doe@domain.co.uk']\n"
     ]
    }
   ],
   "source": [
    "text = \"Contact us at support@example.com, john.doe123@company.org, or invalid-email@com. Also, try jane_doe@domain.co.uk.\"\n",
    "match = re.findall(r'[a-zA-Z0-9][a-zA-Z0-9._-]+[@][a-zA-Z0-9-]+[.][a-z]+[.]*[a-z]*', text)\n",
    "print(match)"
   ]
  },
  {
   "cell_type": "code",
   "execution_count": 35,
   "id": "f9ddacb1-4a53-4e3a-90d6-c3f97758c007",
   "metadata": {},
   "outputs": [
    {
     "name": "stdout",
     "output_type": "stream",
     "text": [
      "['#Python', '#coding', '#100DaysOfCode', '#Regex_Challenge']\n"
     ]
    }
   ],
   "source": [
    "tweet = \"Learning #Python is fun! #coding #100DaysOfCode #Regex_Challenge\"\n",
    "match = re.findall(r'[#]+[a-zA-Z0-9_]+',tweet)\n",
    "print(match)"
   ]
  },
  {
   "cell_type": "code",
   "execution_count": 67,
   "id": "0726f8d9-1958-49f8-9c57-e961b56749f7",
   "metadata": {},
   "outputs": [],
   "source": [
    "import re\n",
    "passwords = [\"WeakPass\", \"Str0ng@Pass\", \"NoSpecial1\", \"short!1\", \"Secure#123\"]\n",
    "\n",
    "def strong_password(passwords):\n",
    "    for i in passwords:\n",
    "        if i < 8:\n",
    "            return False\n",
    "        else:\n",
    "            upper = re.search(r'[A-Z]', i)\n",
    "            lower = re.search(r'[a-z]', i)\n",
    "            digit = re.search(r'[0-9]', i)\n",
    "            special = re.search(r'[@$!%*?&]', i)\n",
    "            return ([upper, lower, digit, special])"
   ]
  },
  {
   "cell_type": "code",
   "execution_count": null,
   "id": "23f107bb-9bc6-4eed-b599-8a2bcd8cfc32",
   "metadata": {},
   "outputs": [],
   "source": []
  }
 ],
 "metadata": {
  "kernelspec": {
   "display_name": "Python 3 (ipykernel)",
   "language": "python",
   "name": "python3"
  },
  "language_info": {
   "codemirror_mode": {
    "name": "ipython",
    "version": 3
   },
   "file_extension": ".py",
   "mimetype": "text/x-python",
   "name": "python",
   "nbconvert_exporter": "python",
   "pygments_lexer": "ipython3",
   "version": "3.12.7"
  }
 },
 "nbformat": 4,
 "nbformat_minor": 5
}
