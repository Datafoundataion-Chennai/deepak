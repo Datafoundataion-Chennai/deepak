{
 "cells": [
  {
   "cell_type": "code",
   "execution_count": null,
   "id": "60ec9ec3-a59c-4394-9861-761f629e9b81",
   "metadata": {},
   "outputs": [],
   "source": []
  },
  {
   "cell_type": "code",
   "execution_count": null,
   "id": "67c24611-a8ff-48e9-b2c2-4eb4b0d402b9",
   "metadata": {},
   "outputs": [
    {
     "name": "stdout",
     "output_type": "stream",
     "text": [
      "🎃 Welcome to the Haunted Maze! Escape before the ghosts catch you! 👻\n",
      "# # # # # # # #\n",
      "# P . . # . E #\n",
      "# # # . # . # #\n",
      "# . G . . . . #\n",
      "# # # # # # # #\n",
      "\n",
      "\n"
     ]
    },
    {
     "name": "stdin",
     "output_type": "stream",
     "text": [
      "Move (W/A/S/D):  d\n"
     ]
    },
    {
     "name": "stdout",
     "output_type": "stream",
     "text": [
      "# # # # # # # #\n",
      "# . P . # . E #\n",
      "# # # . # . # #\n",
      "# . G . . . . #\n",
      "# # # # # # # #\n",
      "\n",
      "\n"
     ]
    }
   ],
   "source": [
    "import random\n",
    "import time\n",
    "\n",
    "# Define the maze grid\n",
    "maze = [\n",
    "    [\"#\", \"#\", \"#\", \"#\", \"#\", \"#\", \"#\", \"#\"],\n",
    "    [\"#\", \"P\", \".\", \".\", \"#\", \".\", \"E\", \"#\"],\n",
    "    [\"#\", \"#\", \"#\", \".\", \"#\", \".\", \"#\", \"#\"],\n",
    "    [\"#\", \".\", \"G\", \".\", \".\", \".\", \".\", \"#\"],\n",
    "    [\"#\", \"#\", \"#\", \"#\", \"#\", \"#\", \"#\", \"#\"]\n",
    "]\n",
    "\n",
    "# Function to display the maze\n",
    "def print_maze():\n",
    "    for row in maze:\n",
    "        print(\" \".join(row))\n",
    "    print(\"\\n\")\n",
    "\n",
    "# Function to find the position of an element (P, G, E)\n",
    "def find_position(symbol):\n",
    "    for i in range(len(maze)):\n",
    "        for j in range(len(maze[i])):\n",
    "            if maze[i][j] == symbol:\n",
    "                return (i, j)\n",
    "    return None\n",
    "\n",
    "# Function to move the player\n",
    "def move_player(direction):\n",
    "    global maze\n",
    "    px, py = find_position(\"P\")\n",
    "    \n",
    "    # Calculate new position based on input\n",
    "    new_x, new_y = px, py\n",
    "    if direction == \"W\": new_x -= 1  # Up\n",
    "    elif direction == \"S\": new_x += 1  # Down\n",
    "    elif direction == \"A\": new_y -= 1  # Left\n",
    "    elif direction == \"D\": new_y += 1  # Right\n",
    "    \n",
    "    # TODO: Handle wall collisions\n",
    "    if maze[new_x][new_y] == '#':\n",
    "        print('Hitting a wall')\n",
    "        return\n",
    "    # TODO: Handle reaching the exit\n",
    "    if maze[new_x][new_y] == 'E':\n",
    "        print('You escaped')\n",
    "        exit()\n",
    "    # TODO: Handle valid movement updates\n",
    "    maze[px][py] = '.'\n",
    "    maze[new_x][new_y] = 'P'\n",
    "\n",
    "# Function to move the ghosts towards the player\n",
    "def move_ghosts():\n",
    "    global maze\n",
    "    px, py = find_position(\"P\")\n",
    "    gx, gy = find_position(\"G\")\n",
    "\n",
    "    # TODO: Implement logic to move ghost closer to playerE':\n",
    "# Game loop\n",
    "def game_loop():\n",
    "    print(\"🎃 Welcome to the Haunted Maze! Escape before the ghosts catch you! 👻\")\n",
    "    print_maze()\n",
    "    \n",
    "    while True:\n",
    "        direction = input(\"Move (W/A/S/D): \").upper()\n",
    "        if direction not in [\"W\", \"A\", \"S\", \"D\"]:\n",
    "            print(\"Invalid move! Use W (up), A (left), S (down), D (right)\")\n",
    "            continue\n",
    "        \n",
    "        move_player(direction)  # Move player\n",
    "        move_ghosts()  # Move ghosts\n",
    "        print_maze()\n",
    "        \n",
    "        # TODO: Check win condition\n",
    "        # TODO: Check lose condition\n",
    "\n",
    "game_loop()\n"
   ]
  },
  {
   "cell_type": "code",
   "execution_count": null,
   "id": "e2ed342e-53dc-4c77-9b9b-ddf925206e24",
   "metadata": {},
   "outputs": [],
   "source": []
  }
 ],
 "metadata": {
  "kernelspec": {
   "display_name": "Python 3 (ipykernel)",
   "language": "python",
   "name": "python3"
  },
  "language_info": {
   "codemirror_mode": {
    "name": "ipython",
    "version": 3
   },
   "file_extension": ".py",
   "mimetype": "text/x-python",
   "name": "python",
   "nbconvert_exporter": "python",
   "pygments_lexer": "ipython3",
   "version": "3.12.7"
  }
 },
 "nbformat": 4,
 "nbformat_minor": 5
}
