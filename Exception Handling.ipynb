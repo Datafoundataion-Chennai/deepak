{
 "cells": [
  {
   "cell_type": "code",
   "execution_count": 64,
   "id": "dc40f85b-b420-4dd0-af7d-83efec307858",
   "metadata": {},
   "outputs": [
    {
     "data": {
      "text/plain": [
       "ZeroDivisionError('Error : Division by zero')"
      ]
     },
     "execution_count": 64,
     "metadata": {},
     "output_type": "execute_result"
    }
   ],
   "source": [
    "def calculator(a, b, operator):\n",
    "    \n",
    "    try:\n",
    "        if operator == '+':\n",
    "            c = a+b\n",
    "            return c\n",
    "        elif operator == '-':\n",
    "            c = a-b\n",
    "            return c\n",
    "        elif operator == '*':\n",
    "            c = a*b\n",
    "            return c\n",
    "        elif operator == '/':\n",
    "            if b == 0:\n",
    "                raise ZeroDivisionError('Error : Division by zero')\n",
    "            c = a/b\n",
    "            return c\n",
    "        elif operator == '%':\n",
    "            if b == 0:\n",
    "                raise ZeroDivisionError('Error : Division by zero')\n",
    "            c = a%b\n",
    "            return c\n",
    "        elif operator == '**':\n",
    "            c = a**b\n",
    "            return c\n",
    "        else:\n",
    "            return ValueError('Error : Unsupported Operator')\n",
    "    except ZeroDivisionError as z:\n",
    "        return z\n",
    "    except ValueError as v:\n",
    "        return v\n",
    "    except TypeError as t:\n",
    "        return t\n",
    "    except Exception as e:\n",
    "        return e\n",
    "calculator(2,0,'/')"
   ]
  },
  {
   "cell_type": "code",
   "execution_count": 61,
   "id": "53582ae1-f961-42ce-96e5-5e35c7b46af6",
   "metadata": {},
   "outputs": [
    {
     "data": {
      "text/plain": [
       "'Remaining Balance is 50'"
      ]
     },
     "execution_count": 61,
     "metadata": {},
     "output_type": "execute_result"
    }
   ],
   "source": [
    "class InsufficientFundsError(Exception):\n",
    "    \n",
    "    pass\n",
    "\n",
    "class BankAccount:\n",
    "    def __init__(self, balance):\n",
    "        self.balance = balance\n",
    "\n",
    "    def withdraw(self, amount):\n",
    "        \"\"\"\n",
    "        Withdraws money from the account.\n",
    "        \n",
    "        :param amount: Amount to withdraw\n",
    "        :return: Remaining balance or error message\n",
    "        \"\"\"\n",
    "        try:\n",
    "            if amount <0:\n",
    "                raise ValueError('Error : Withdraw should not be negative')\n",
    "            elif amount>self.balance:\n",
    "                raise InsufficientFundsError('Error : Insufficient Funds in the account')\n",
    "            else:\n",
    "                self.balance -= amount\n",
    "                return (f'Remaining Balance is {self.balance}')\n",
    "        except ValueError as v:\n",
    "            return v\n",
    "        except InsufficientFundsError as i:\n",
    "            return i\n",
    "        except Exception as e:\n",
    "            return e\n",
    "account = BankAccount(100)\n",
    "account.withdraw(50)"
   ]
  },
  {
   "cell_type": "code",
   "execution_count": null,
   "id": "84b1e342-c67c-4fa6-8f4b-7e4e00f2a177",
   "metadata": {},
   "outputs": [],
   "source": []
  }
 ],
 "metadata": {
  "kernelspec": {
   "display_name": "Python 3 (ipykernel)",
   "language": "python",
   "name": "python3"
  },
  "language_info": {
   "codemirror_mode": {
    "name": "ipython",
    "version": 3
   },
   "file_extension": ".py",
   "mimetype": "text/x-python",
   "name": "python",
   "nbconvert_exporter": "python",
   "pygments_lexer": "ipython3",
   "version": "3.12.7"
  }
 },
 "nbformat": 4,
 "nbformat_minor": 5
}
