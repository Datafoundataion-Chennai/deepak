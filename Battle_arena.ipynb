{
 "cells": [
  {
   "cell_type": "code",
   "execution_count": 9,
   "id": "3ee5c7f2-a876-4898-b95d-2595a6a5fc8e",
   "metadata": {},
   "outputs": [],
   "source": [
    "class Character:\n",
    "    def __init__(self, name, health, attack_power, defense, speed):\n",
    "        self.name = name  \n",
    "        self.health = health  \n",
    "        self.attack_power = attack_power  \n",
    "        self.defense = defense  \n",
    "        self.speed = speed  \n",
    "        \n",
    "    def attack(self,target):\n",
    "        damage = self.attackpower - target.defense\n",
    "        print(f\"{self.name} attacks {target.name} and deals {damage} damage!\")\n",
    "        target.take_damage(damage)\n",
    "        \n",
    "    def take_damage(self, amount):\n",
    "        self.heath -= amount\n",
    "        print(f\"{self.name} now has {self.health} remaining.\")\n",
    "        \n",
    "    def is_alive(self):\n",
    "        if self.health >0:\n",
    "            return True\n",
    "        else:\n",
    "            return False\n",
    "            \n",
    "class Warrior(Character):\n",
    "    def __init__(self, rage):\n",
    "        super().__init__(name, health=120, attack_power=20, defense=10, speed=5)\n",
    "        self.rage = 0   \n",
    "        \n",
    "    def take_damage(self, amount):\n",
    "        self.rage += 1\n",
    "        if health < 30:\n",
    "            self.attack_power = attack_power*2\n",
    "            \n",
    "class Mage(Character):\n",
    "    def __init__(self, mana):\n",
    "        super().__init__(name, health=80, attack_power=35, defense=5, speed=7)\n",
    "        self.mana = 100\n",
    "    def fireball():\n",
    "        pass\n",
    "class Archer(Character):\n",
    "    def __init__(self,critical_chance):\n",
    "        super().__init__(name, health=90, attack_power=22, defense=5, speed=10)\n",
    "        self.critical_chance = 0.3\n",
    "    def precision_shot():\n",
    "        pass"
   ]
  },
  {
   "cell_type": "code",
   "execution_count": null,
   "id": "2768f6af-45d2-4cba-bfa6-0bcbb2bc7759",
   "metadata": {},
   "outputs": [],
   "source": []
  },
  {
   "cell_type": "code",
   "execution_count": null,
   "id": "90487df3-ea23-4237-96e9-110cf7577f93",
   "metadata": {},
   "outputs": [],
   "source": []
  }
 ],
 "metadata": {
  "kernelspec": {
   "display_name": "Python 3 (ipykernel)",
   "language": "python",
   "name": "python3"
  },
  "language_info": {
   "codemirror_mode": {
    "name": "ipython",
    "version": 3
   },
   "file_extension": ".py",
   "mimetype": "text/x-python",
   "name": "python",
   "nbconvert_exporter": "python",
   "pygments_lexer": "ipython3",
   "version": "3.12.7"
  }
 },
 "nbformat": 4,
 "nbformat_minor": 5
}
