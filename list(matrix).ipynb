{
 "cells": [
  {
   "cell_type": "code",
   "execution_count": 1,
   "id": "89b17a40-a7d4-4713-8219-f3a7c783ca25",
   "metadata": {},
   "outputs": [
    {
     "name": "stdout",
     "output_type": "stream",
     "text": [
      "97.23\n"
     ]
    }
   ],
   "source": [
    "prices = ['12.99','23.50','9.99','45.00','5.75']\n",
    "\n",
    "x = list(map(lambda a : float(a), prices))\n",
    "sum = 0\n",
    "for i in x:\n",
    "    sum += i\n",
    "print(sum)"
   ]
  },
  {
   "cell_type": "code",
   "execution_count": 2,
   "id": "97308202-ce51-43ca-9402-46648c193b48",
   "metadata": {},
   "outputs": [
    {
     "name": "stdout",
     "output_type": "stream",
     "text": [
      "['apple', 'grape', 'mango']\n"
     ]
    }
   ],
   "source": [
    "words = ['apple','banana','grape','kiwi','mango','strawberry']\n",
    "print(list(filter(lambda b : len(b) %2 != 0,words)))"
   ]
  },
  {
   "cell_type": "code",
   "execution_count": 3,
   "id": "cc7ea860-6cc3-460e-86cc-ab1e4d4cdd3d",
   "metadata": {},
   "outputs": [
    {
     "name": "stdin",
     "output_type": "stream",
     "text": [
      "Enter a number: 3\n"
     ]
    },
    {
     "name": "stdout",
     "output_type": "stream",
     "text": [
      "[(3, 1, 3), (3, 2, 6), (3, 3, 9), (3, 4, 12), (3, 5, 15), (3, 6, 18), (3, 7, 21), (3, 8, 24), (3, 9, 27), (3, 10, 30)]\n"
     ]
    }
   ],
   "source": [
    "num = int(input('Enter a number:'))\n",
    "mul=[(num,i,num*i) for i in range (1,11)]\n",
    "print(mul)"
   ]
  },
  {
   "cell_type": "code",
   "execution_count": 4,
   "id": "0d3d07ae-cfb1-490a-98c7-7790eebe550f",
   "metadata": {},
   "outputs": [
    {
     "name": "stdin",
     "output_type": "stream",
     "text": [
      "Enter a sentence Hello World\n"
     ]
    },
    {
     "name": "stdout",
     "output_type": "stream",
     "text": [
      "3\n"
     ]
    }
   ],
   "source": [
    "sen = input('Enter a sentence').lower()\n",
    "vow = 'aeiou'\n",
    "count = 0\n",
    "for i in sen:\n",
    "    if i in vow:\n",
    "        count+=1\n",
    "print(count)"
   ]
  },
  {
   "cell_type": "code",
   "execution_count": 32,
   "id": "2db3cf55-b08e-42ed-8f25-15b2f62bf391",
   "metadata": {},
   "outputs": [
    {
     "name": "stdin",
     "output_type": "stream",
     "text": [
      "Enter a number 9\n"
     ]
    },
    {
     "name": "stdout",
     "output_type": "stream",
     "text": [
      "True and (2 ,2)\n"
     ]
    }
   ],
   "source": [
    "matrix = [\n",
    "  [1, 4, 7, 11],\n",
    "  [2, 5, 8, 12],\n",
    "  [3, 6, 9, 16]\n",
    "]\n",
    "target = int(input('Enter a number'))\n",
    "a=0\n",
    "for i in range(len(matrix)):\n",
    "    for j in range (len(matrix[0])):\n",
    "        if target == matrix[i][j]:\n",
    "            print(f'True and ({i} ,{j})')\n",
    "            a=1\n",
    "            break\n",
    "if a==0:\n",
    "    print('False')"
   ]
  },
  {
   "cell_type": "code",
   "execution_count": 21,
   "id": "9fcef512-2345-40cf-9ff8-75d28ab53e6d",
   "metadata": {},
   "outputs": [
    {
     "name": "stdout",
     "output_type": "stream",
     "text": [
      "{'player1': 3, 'player2': 4}\n",
      "player2 wins\n"
     ]
    }
   ],
   "source": [
    "d1 = [1,2,3,4,5,6]\n",
    "d2 = [1,2,3,4,5,6]\n",
    "R = 5\n",
    "o = [[(1,3),(4,5)],[(2,3),(4,5)],[(1,6),(2,2)],[(3,4),(5,1)],[(6,6),(1,1)]]\n",
    "score ={'player1':0,'player2':0}\n",
    "li = []\n",
    "for i in d1:\n",
    "    for j in d2:\n",
    "        li.append((i,j))\n",
    "di = {}\n",
    "n = len(li)\n",
    "for i in li:\n",
    "    s = sum(i)\n",
    "    if s in di:\n",
    "        di[s].append(i)\n",
    "    else:\n",
    "        di[s] = [i]\n",
    "\n",
    "for i,j in di.items():\n",
    "    di[i] = len(j)/n*100\n",
    "\n",
    "#print(di)\n",
    "#print(li)\n",
    "for i in o:\n",
    "    player1_sum = sum(i[0])\n",
    "    player2_sum = sum(i[1])\n",
    "    if di[player1_sum] > di[player2_sum]:\n",
    "        score['player2'] += 1\n",
    "    elif di[player1_sum] < di[player2_sum]:\n",
    "        score['player1'] += 1\n",
    "    else:\n",
    "        score['player1'] += 1\n",
    "        score['player2'] += 1\n",
    "print(score)\n",
    "if score['player1'] > score['player2']:\n",
    "    print('player1 wins')\n",
    "elif score['player1'] < score['player2']:\n",
    "    print('player2 wins')\n",
    "else:\n",
    "    print('draw')\n",
    "            \n"
   ]
  },
  {
   "cell_type": "code",
   "execution_count": null,
   "id": "d27eb3b8-f2b2-4a67-b3d1-f591a519a0ff",
   "metadata": {},
   "outputs": [],
   "source": []
  }
 ],
 "metadata": {
  "kernelspec": {
   "display_name": "Python 3 (ipykernel)",
   "language": "python",
   "name": "python3"
  },
  "language_info": {
   "codemirror_mode": {
    "name": "ipython",
    "version": 3
   },
   "file_extension": ".py",
   "mimetype": "text/x-python",
   "name": "python",
   "nbconvert_exporter": "python",
   "pygments_lexer": "ipython3",
   "version": "3.12.7"
  }
 },
 "nbformat": 4,
 "nbformat_minor": 5
}
