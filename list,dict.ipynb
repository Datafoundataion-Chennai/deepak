{
 "cells": [
  {
   "cell_type": "code",
   "execution_count": 16,
   "id": "622a8082-fdaf-4cfe-b0b6-f61dea959204",
   "metadata": {},
   "outputs": [
    {
     "data": {
      "text/plain": [
       "30"
      ]
     },
     "execution_count": 16,
     "metadata": {},
     "output_type": "execute_result"
    }
   ],
   "source": [
    "def second_largest_num(list):\n",
    "    unique_numbers = sorted(set(list), reverse=True)\n",
    "    if len(unique_numbers)>1 :\n",
    "        return unique_numbers[1] \n",
    "    else:\n",
    "        print('None')\n",
    "second_largest_num([10,20,20,30,40])"
   ]
  },
  {
   "cell_type": "code",
   "execution_count": 19,
   "id": "be711a2b-7d88-41bc-9f81-8ce73288bcc8",
   "metadata": {
    "scrolled": true
   },
   "outputs": [
    {
     "data": {
      "text/plain": [
       "{'b': 25, 'a': 10, 'c': 15}"
      ]
     },
     "execution_count": 19,
     "metadata": {},
     "output_type": "execute_result"
    }
   ],
   "source": [
    "d1={'a': 10, 'b': 20}\n",
    "d2={'b': 5, 'c': 15}\n",
    "merged = {key: d1.get(key,0) + d2.get(key,0) for key in set(d1) | set(d2)}\n",
    "merged"
   ]
  },
  {
   "cell_type": "code",
   "execution_count": 31,
   "id": "79d62d3e-2961-4e5d-ab2e-e1ea8dc57ce4",
   "metadata": {},
   "outputs": [
    {
     "name": "stdout",
     "output_type": "stream",
     "text": [
      "{'hello': 2, 'world': 1}\n"
     ]
    }
   ],
   "source": [
    "statement = 'Hello world hello'\n",
    "statement = statement.lower()\n",
    "words = statement.split()\n",
    "frequency={}\n",
    "for i in words:\n",
    "    if i in frequency.keys():\n",
    "        frequency[i] +=1\n",
    "    else:\n",
    "        frequency[i] = 1\n",
    "\n",
    "print(frequency)"
   ]
  },
  {
   "cell_type": "code",
   "execution_count": 5,
   "id": "9d0fcb54-e609-4bf6-a0e5-70798186f639",
   "metadata": {},
   "outputs": [
    {
     "name": "stdout",
     "output_type": "stream",
     "text": [
      "102\n"
     ]
    }
   ],
   "source": [
    "li = [\n",
    "    [1, 2, 3, 4],\n",
    "    [5, 6, 7, 8],\n",
    "    [9, 10, 11, 12],\n",
    "    [13, 14, 15, 16]\n",
    "]\n",
    "e=0\n",
    "for i in range (0,len(li)):\n",
    "    for j in range (0, len(li[0])):\n",
    "        if i == 0 or i == (len(li)-1) or j == 0 or j == (len(li[0])-1):\n",
    "          e += li[i][j]\n",
    "print(e)\n",
    "            "
   ]
  },
  {
   "cell_type": "code",
   "execution_count": 22,
   "id": "e638d3f0-2bf4-4107-8984-1f31b291ff53",
   "metadata": {},
   "outputs": [
    {
     "name": "stdout",
     "output_type": "stream",
     "text": [
      "[0]\n",
      "[0]\n",
      "[0]\n"
     ]
    }
   ],
   "source": [
    "n = [\n",
    "    [1,  2,  3,  4],\n",
    "    [5,  6,  7,  8],\n",
    "    [9, 10, 11, 12]\n",
    "]\n",
    "for i in range(len(n)):\n",
    "    for j in range(len(n[0])):\n",
    "        if i == 0 and j in (len(n[0])):\n",
    "            e = n[i][j]\n",
    "    print(e)"
   ]
  },
  {
   "cell_type": "code",
   "execution_count": null,
   "id": "855ecb00-9168-4f8c-96df-e32abc55a5b5",
   "metadata": {},
   "outputs": [],
   "source": []
  }
 ],
 "metadata": {
  "kernelspec": {
   "display_name": "Python 3 (ipykernel)",
   "language": "python",
   "name": "python3"
  },
  "language_info": {
   "codemirror_mode": {
    "name": "ipython",
    "version": 3
   },
   "file_extension": ".py",
   "mimetype": "text/x-python",
   "name": "python",
   "nbconvert_exporter": "python",
   "pygments_lexer": "ipython3",
   "version": "3.12.7"
  }
 },
 "nbformat": 4,
 "nbformat_minor": 5
}
