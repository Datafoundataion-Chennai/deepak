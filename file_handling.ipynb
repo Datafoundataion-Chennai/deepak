{
 "cells": [
  {
   "cell_type": "code",
   "execution_count": 5,
   "id": "25d069e7-17ff-4feb-94a4-7897cbad8169",
   "metadata": {},
   "outputs": [],
   "source": [
    "import csv\n",
    "\n",
    "with open('demo.csv', 'w', newline = '') as file:\n",
    "    writer = csv.writer(file)\n",
    "    writer.writerow(['TIMESTAMP', 'STATUS_CODE', 'MESSAGE'])\n",
    "    writer.writerow(['[2025-03-04 12:05:23]', '200', 'Request successful'])\n",
    "    writer.writerow(['[2025-03-04 12:07:15]', '404', 'Page not found'])\n",
    "    writer.writerow(['[2025-03-04 12:10:45]', '500', 'Internal server error'])\n",
    "    writer.writerow(['[2025-03-04 12:15:10]', '200', 'Request successful'])\n",
    "    writer.writerow(['[2025-03-04 12:20:30]', '503', 'Service unavailable'])"
   ]
  },
  {
   "cell_type": "code",
   "execution_count": 20,
   "id": "c07bc238-75e5-48d3-9b08-32a753db6f31",
   "metadata": {},
   "outputs": [
    {
     "name": "stdout",
     "output_type": "stream",
     "text": [
      "{'TIMESTAMP': '[2025-03-04 12:05:23]', 'STATUS_CODE': '200', 'MESSAGE': 'Request successful'}\n",
      "{'TIMESTAMP': '[2025-03-04 12:07:15]', 'STATUS_CODE': '404', 'MESSAGE': 'Page not found'}\n",
      "{'TIMESTAMP': '[2025-03-04 12:10:45]', 'STATUS_CODE': '500', 'MESSAGE': 'Internal server error'}\n",
      "{'TIMESTAMP': '[2025-03-04 12:15:10]', 'STATUS_CODE': '200', 'MESSAGE': 'Request successful'}\n",
      "{'TIMESTAMP': '[2025-03-04 12:20:30]', 'STATUS_CODE': '503', 'MESSAGE': 'Service unavailable'}\n"
     ]
    }
   ],
   "source": [
    "import csv\n",
    "with open('demo.csv', 'r') as file:\n",
    "    reader = csv.DictReader(file)\n",
    "    for i in reader:\n",
    "        a=i\n"
   ]
  },
  {
   "cell_type": "code",
   "execution_count": null,
   "id": "182f87b7-62d8-4ac0-b0b8-455ad0973265",
   "metadata": {},
   "outputs": [],
   "source": []
  }
 ],
 "metadata": {
  "kernelspec": {
   "display_name": "Python 3 (ipykernel)",
   "language": "python",
   "name": "python3"
  },
  "language_info": {
   "codemirror_mode": {
    "name": "ipython",
    "version": 3
   },
   "file_extension": ".py",
   "mimetype": "text/x-python",
   "name": "python",
   "nbconvert_exporter": "python",
   "pygments_lexer": "ipython3",
   "version": "3.12.7"
  }
 },
 "nbformat": 4,
 "nbformat_minor": 5
}
