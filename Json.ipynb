{
 "cells": [
  {
   "cell_type": "code",
   "execution_count": 5,
   "id": "ddbda67a-2d2c-4a1c-9660-8c5499a3d88e",
   "metadata": {},
   "outputs": [
    {
     "name": "stderr",
     "output_type": "stream",
     "text": [
      "2025-03-03 17:19:11,583 - WARNING - Invalid Authorization Code!\n",
      "2025-03-03 17:19:11,584 - WARNING - Invalid Authorization Code!\n",
      "2025-03-03 17:19:11,587 - ERROR - Both Captain and XO codes are invalid. Launch denied.\n",
      "2025-03-03 17:19:11,589 - ERROR - Launch Authorization Failed! Access Denied.\n",
      "2025-03-03 17:19:11,591 - INFO - Authorization Code Validated Successfully!\n",
      "2025-03-03 17:19:11,593 - INFO - Authorization Code Validated Successfully!\n",
      "2025-03-03 17:19:11,595 - INFO - Both Captain and XO codes are valid. Launch authorized\n",
      "2025-03-03 17:19:11,597 - INFO - Launch authorized for USS Trident. Preparing to launch SLBM...\n",
      "2025-03-03 17:19:11,607 - INFO - 🚀 Missile launched carrying Warhead W001: Type Thermonuclear, Yield 1000kt!\n"
     ]
    }
   ],
   "source": [
    "import json\n",
    "import logging\n",
    "from authorization import LaunchAuthorizationSystem\n",
    "\n",
    "# Set up logging (console output only)\n",
    "logging.basicConfig(level=logging.INFO, format=\"%(asctime)s - %(levelname)s - %(message)s\")\n",
    "\n",
    "class Warhead:\n",
    "    \"\"\"Represents a nuclear warhead with specific payload information.\"\"\"\n",
    "    \n",
    "    def __init__(self, warhead_id, type, yield_kt):\n",
    "        self.warhead_id = warhead_id\n",
    "        self.type = type\n",
    "        self.yield_kt = yield_kt  # Yield in kilotons\n",
    "\n",
    "    def get_info(self):\n",
    "        return f\"Warhead {self.warhead_id}: Type {self.type}, Yield {self.yield_kt}kt\"\n",
    "\n",
    "class Submarine:\n",
    "    \"\"\"Controls the nuclear missile launch sequence.\"\"\"\n",
    "    \n",
    "    def __init__(self, name, warhead_data):\n",
    "        self.name = name\n",
    "        self.warheads = [Warhead(**w) for w in warhead_data]\n",
    "\n",
    "    '''def authorize_launch(self, auth_code):\n",
    "        \"\"\"Attempts to authorize and launch a missile.\"\"\"\n",
    "        if LaunchAuthorizationSystem.validate_code(auth_code):\n",
    "            logging.info(f\"Launch authorized for {self.name}. Preparing to launch SLBM...\")\n",
    "            self.launch_missile()\n",
    "        else:\n",
    "            logging.error(\"Launch Authorization Failed! Access Denied.\")'''\n",
    "\n",
    "    def authorize_launch(self, captain_code, xo_code):\n",
    "        if LaunchAuthorizationSystem.validate_dual_codes(captain_code, xo_code):\n",
    "            logging.info(f\"Launch authorized for {self.name}. Preparing to launch SLBM...\")\n",
    "            self.launch_missile()\n",
    "        else:\n",
    "            logging.error(\"Launch Authorization Failed! Access Denied.\")\n",
    "\n",
    "    def launch_missile(self):\n",
    "        \"\"\"Simulates launching a missile.\"\"\"\n",
    "        if self.warheads:\n",
    "            warhead = self.warheads.pop(0)  # Fire the first available warhead\n",
    "            logging.info(f\"🚀 Missile launched carrying {warhead.get_info()}!\")\n",
    "        else:\n",
    "            logging.warning(\"No warheads available for launch.\")\n",
    "\n",
    "# JSON Data (Simulating a warhead payload inventory)\n",
    "warhead_json = '''\n",
    "[\n",
    "    {\"warhead_id\": \"W001\", \"type\": \"Thermonuclear\", \"yield_kt\": 1000},\n",
    "    {\"warhead_id\": \"W002\", \"type\": \"Tactical\", \"yield_kt\": 300}\n",
    "]\n",
    "'''\n",
    "\n",
    "# Load warhead data\n",
    "warhead_data = json.loads(warhead_json)\n",
    "\n",
    "# Initialize submarine\n",
    "submarine = Submarine(\"USS Trident\", warhead_data)\n",
    "\n",
    "# 🚀 Try launching with an incorrect code\n",
    "submarine.authorize_launch(\"INVALID-123\", \"WRONG-456\")\n",
    "\n",
    "# 🚀 Try launching with valid codes\n",
    "submarine.authorize_launch(\"AUTH-XYZ123-4567-SECURE\", \"AUTH-ABC789-1234-SECURE\")"
   ]
  },
  {
   "cell_type": "code",
   "execution_count": null,
   "id": "6457f266-3882-4a0f-9104-8fd3eb9c45f5",
   "metadata": {},
   "outputs": [],
   "source": []
  },
  {
   "cell_type": "code",
   "execution_count": null,
   "id": "ee2a77d5-3022-4a95-8467-51ff3247cbb6",
   "metadata": {},
   "outputs": [],
   "source": []
  }
 ],
 "metadata": {
  "kernelspec": {
   "display_name": "Python 3 (ipykernel)",
   "language": "python",
   "name": "python3"
  },
  "language_info": {
   "codemirror_mode": {
    "name": "ipython",
    "version": 3
   },
   "file_extension": ".py",
   "mimetype": "text/x-python",
   "name": "python",
   "nbconvert_exporter": "python",
   "pygments_lexer": "ipython3",
   "version": "3.12.7"
  }
 },
 "nbformat": 4,
 "nbformat_minor": 5
}
